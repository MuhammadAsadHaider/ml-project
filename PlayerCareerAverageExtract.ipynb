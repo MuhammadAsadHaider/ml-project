{
 "cells": [
  {
   "cell_type": "code",
   "execution_count": null,
   "metadata": {},
   "outputs": [],
   "source": [
    "import pandas as pd\n",
    "import requests\n",
    "from bs4 import BeautifulSoup\n",
    "from tqdm import tqdm"
   ]
  },
  {
   "cell_type": "code",
   "execution_count": null,
   "metadata": {},
   "outputs": [],
   "source": [
    "players_df = pd.read_csv('resources/people.csv')"
   ]
  },
  {
   "cell_type": "code",
   "execution_count": null,
   "metadata": {},
   "outputs": [],
   "source": [
    "cricinfo_ids = players_df[['identifier','key_cricinfo']].fillna(0).to_dict('records')"
   ]
  },
  {
   "cell_type": "code",
   "execution_count": null,
   "metadata": {},
   "outputs": [],
   "source": [
    "headers = {\"User-Agent\": \"Mozilla/5.0 (Macintosh; Intel Mac OS X 10_15_7) \"\n",
    "                         \"AppleWebKit/605.1.15 (KHTML, like Gecko) \"\n",
    "                         \"Version/15.4 Safari/605.1.15\"}"
   ]
  },
  {
   "cell_type": "code",
   "execution_count": null,
   "metadata": {},
   "outputs": [],
   "source": [
    "def to_float(x):\n",
    "    try:\n",
    "        return float(x)\n",
    "    except:\n",
    "        return 0"
   ]
  },
  {
   "cell_type": "code",
   "execution_count": null,
   "metadata": {},
   "outputs": [],
   "source": [
    "def get_player_career_averages(player_id):\n",
    "    url_batting = f\"https://stats.espncricinfo.com/ci/engine/player/{player_id}.html?class=3;template=results;type=batting;view=cumulative;wrappertype=print\"\n",
    "    url_bowling = f\"https://stats.espncricinfo.com/ci/engine/player/{player_id}.html?class=3;template=results;type=bowling;view=cumulative;wrappertype=print\"\n",
    "\n",
    "    r_batting = requests.get(url_batting, headers=headers)\n",
    "    r_bowling = requests.get(url_bowling, headers=headers)\n",
    "\n",
    "    if r_batting.status_code != 200 or r_bowling.status_code != 200:\n",
    "        return None\n",
    "\n",
    "    html_batting = BeautifulSoup(r_batting.text, 'html.parser')\n",
    "    html_bowling = BeautifulSoup(r_bowling.text, 'html.parser')\n",
    "\n",
    "    batting_stats = html_batting.findAll('table')[2]\n",
    "    bowling_stats = html_bowling.findAll('table')[2]\n",
    "\n",
    "    if 'No records available to match this query' in batting_stats.text or 'No records available to match this query' in bowling_stats.text:\n",
    "        return None\n",
    "\n",
    "    df_batting = pd.read_html(str(batting_stats))[0]\n",
    "    df_bowling = pd.read_html(str(bowling_stats))[0]\n",
    "\n",
    "    # convert all data types to objects\n",
    "    data_dict = {}\n",
    "    data_dict['id'] = player_id\n",
    "    data_dict['batting_average'] = to_float(df_batting['Ave'][0])\n",
    "    data_dict['batting_strike_rate'] = to_float(df_batting['SR'][0])\n",
    "\n",
    "    batting_innings = to_float(df_batting['Inns'][0])\n",
    "    bowling_innings = to_float(df_bowling['Inns'][0])\n",
    "    bowling_overs = to_float(df_bowling['Overs'][0])\n",
    "\n",
    "    data_dict['batting_100s_normalized'] = to_float(df_batting['100'][0])/batting_innings if batting_innings > 0 else 0\n",
    "    data_dict['batting_50s_normalized'] = to_float(df_batting['50'][0])/batting_innings if batting_innings > 0 else 0\n",
    "    data_dict['batting_6s_normalized'] = to_float(df_batting['6s'][0])/batting_innings if batting_innings > 0 else 0\n",
    "    data_dict['batting_4s_normalized'] = to_float(df_batting['4s'][0])/batting_innings if batting_innings > 0 else 0\n",
    "    data_dict['batting_highest_score'] = to_float(df_batting['HS'][0])\n",
    "    data_dict['batting_not_outs_normalized'] = to_float(df_batting['NO'][0])/batting_innings if batting_innings > 0 else 0\n",
    "    data_dict['bowling_average'] = to_float(df_bowling['Ave'][0])\n",
    "    data_dict['bowling_strike_rate'] = to_float(df_bowling['SR'][0]) #the number of balls bowled per wicket\n",
    "    data_dict['bowling_economy'] = to_float(df_bowling['Econ'][0]) #number of runs allowed per over\n",
    "    data_dict['bowling_maidens_normalized'] = to_float(df_bowling['Mdns'][0])/bowling_overs if bowling_overs > 0 else 0\n",
    "    \n",
    "    return data_dict"
   ]
  },
  {
   "cell_type": "code",
   "execution_count": null,
   "metadata": {},
   "outputs": [],
   "source": [
    "# iterate over all players and get their career averages and save them to a csv file\n",
    "player_info_not_found = []\n",
    "records = []\n",
    "i = 0\n",
    "for player_id in tqdm(cricinfo_ids[:20]):\n",
    "    data_dict = get_player_career_averages(int(player_id['key_cricinfo']))\n",
    "    if data_dict is None:\n",
    "        player_info_not_found.append(player_id)\n",
    "    else:\n",
    "        data_dict['identifier'] = player_id['identifier']\n",
    "        records.append(data_dict)\n",
    "    \n",
    "    if i % 1000 == 0:\n",
    "        df = pd.DataFrame.from_records(records)\n",
    "        df.to_csv(f'resources/player_career_averages_{i}.csv', index=False)\n",
    "        pd.DataFrame(player_info_not_found).to_csv(f'resources/player_info_not_found_{i}.csv', index=False)\n",
    "        records = []\n",
    "        player_info_not_found = []\n",
    "    i += 1\n",
    "\n",
    "\n",
    "df = pd.DataFrame.from_records(records)\n",
    "df.to_csv(f'resources/player_career_averages_{i}.csv', index=False)\n",
    "# save player info not found to a csv file\n",
    "pd.DataFrame(player_info_not_found).to_csv(f'resources/player_info_not_found_{i}.csv', index=False)"
   ]
  },
  {
   "cell_type": "code",
   "execution_count": null,
   "metadata": {},
   "outputs": [],
   "source": []
  }
 ],
 "metadata": {
  "kernelspec": {
   "display_name": "Python 3.10.5 64-bit",
   "language": "python",
   "name": "python3"
  },
  "language_info": {
   "codemirror_mode": {
    "name": "ipython",
    "version": 3
   },
   "file_extension": ".py",
   "mimetype": "text/x-python",
   "name": "python",
   "nbconvert_exporter": "python",
   "pygments_lexer": "ipython3",
   "version": "3.10.5"
  },
  "orig_nbformat": 4,
  "vscode": {
   "interpreter": {
    "hash": "26de051ba29f2982a8de78e945f0abaf191376122a1563185a90213a26c5da77"
   }
  }
 },
 "nbformat": 4,
 "nbformat_minor": 2
}
