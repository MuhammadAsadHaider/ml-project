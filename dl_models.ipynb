{
 "cells": [
  {
   "cell_type": "code",
   "execution_count": 1,
   "metadata": {},
   "outputs": [],
   "source": [
    "# make rnn model in pytorch\n",
    "\n",
    "import numpy as np\n",
    "import pandas as pd\n",
    "import torch\n",
    "import torch.nn as nn\n",
    "import torch.optim as optim\n",
    "from torch.utils.data import Dataset, DataLoader\n",
    "import matplotlib.pyplot as plt\n",
    "import time\n",
    "from tqdm import tqdm\n",
    "from sklearn.model_selection import KFold\n",
    "from sklearn.model_selection import train_test_split"
   ]
  },
  {
   "cell_type": "code",
   "execution_count": 31,
   "metadata": {},
   "outputs": [],
   "source": [
    "# Create a class for the dataset\n",
    "class MatchesDetailsDataset(Dataset):\n",
    "    def __init__(self, matches_info, matches_details, targets):\n",
    "        self.matches_info = matches_info\n",
    "        self.matches_details = matches_details\n",
    "        self.targets = targets\n",
    "\n",
    "    def __len__(self):\n",
    "        return len(self.matches_info)\n",
    "\n",
    "    def __getitem__(self, idx):\n",
    "        match_info = self.matches_info.iloc[idx].astype(np.float32).values\n",
    "        match_details = self.matches_details[self.matches_details['id'] == match_info[0]].astype(np.float32).values\n",
    "        target = self.targets[self.targets['id'] == match_info[0]].astype(np.float32).values\n",
    "\n",
    "        # remove id\n",
    "        return match_info[1:], match_details[:, 1:], target[:, 3:]"
   ]
  },
  {
   "cell_type": "code",
   "execution_count": 3,
   "metadata": {},
   "outputs": [],
   "source": [
    "matches_info = pd.read_csv('matches_info.csv')\n",
    "matches_details = pd.read_csv('lstm_x_final.csv')\n",
    "targets = pd.read_csv('lstm_y_final.csv')"
   ]
  },
  {
   "cell_type": "code",
   "execution_count": 4,
   "metadata": {},
   "outputs": [],
   "source": [
    "device = torch.device(\"cuda:0\" if torch.cuda.is_available() else \"cpu\")"
   ]
  },
  {
   "cell_type": "code",
   "execution_count": 6,
   "metadata": {},
   "outputs": [],
   "source": [
    "# Create the RNN model\n",
    "class CricketRNN(nn.Module):\n",
    "    def __init__(self, input_sequence_features, sequence_length, hidden_size, num_layers, number_of_features, regression=True):\n",
    "        super(CricketRNN, self).__init__()\n",
    "        self.hidden_size = hidden_size\n",
    "        self.regression = regression\n",
    "        self.num_layers = num_layers\n",
    "        self.rnn = nn.RNN(input_sequence_features, hidden_size, num_layers, nonlinearity='relu' ,batch_first=True)\n",
    "        self.output_fc = nn.Sequential(\n",
    "            nn.Linear(hidden_size * sequence_length, sequence_length),\n",
    "        )\n",
    "        self.h0_fc = nn.Sequential(\n",
    "            nn.Linear(number_of_features, self.num_layers * self.hidden_size),\n",
    "            nn.ReLU()\n",
    "        )\n",
    "\n",
    "    def forward(self, x, s, h0 = None):\n",
    "        if h0 is None:\n",
    "            h0 = torch.reshape(self.h0_fc(x), (self.num_layers, x.size(0), self.hidden_size)).requires_grad_()\n",
    "\n",
    "        out, hn = self.rnn(s, h0)\n",
    "        out = out.reshape(out.shape[0], -1)\n",
    "        out = self.output_fc(out)\n",
    "        out = torch.relu(out) if self.regression else torch.tanh(out)\n",
    "        return out, hn"
   ]
  },
  {
   "cell_type": "code",
   "execution_count": 37,
   "metadata": {},
   "outputs": [],
   "source": [
    "# train the model\n",
    "def train_model(model_runs, model_winner, model_final, train_loader, test_loader, optimizer_runs, optimizer_winner, optimizer_final, criterion, epochs):\n",
    "    for epoch in range(epochs):\n",
    "        model_runs.train()\n",
    "        model_winner.train()\n",
    "        model_final.train()\n",
    "\n",
    "        for x, s, y in train_loader:\n",
    "            optimizer_runs.zero_grad()\n",
    "\n",
    "            x = x.to(device)\n",
    "            s = s.to(device)\n",
    "            y = y.to(device)\n",
    "\n",
    "            # Forward pass\n",
    "            out_runs, hn_runs = model_runs(x, s)\n",
    "            train_loss_runs = criterion(out_runs, y[:, :, 0])\n",
    "\n",
    "            # Backward and optimize\n",
    "            train_loss_runs.backward()\n",
    "            optimizer_runs.step()\n",
    "\n",
    "            optimizer_winner.zero_grad()\n",
    "\n",
    "            # Forward pass\n",
    "            out_winner, hn_winner = model_winner(x, s)\n",
    "            train_loss_winner = criterion(out_winner, y[:, :, 1])\n",
    "\n",
    "            # Backward and optimize\n",
    "            train_loss_winner.backward()\n",
    "            optimizer_winner.step()\n",
    "\n",
    "            optimizer_final.zero_grad()\n",
    "\n",
    "            # Forward pass\n",
    "            out_final, hn_final = model_final(x, s)\n",
    "            train_loss_final = criterion(out_final, y[:, :, 2])\n",
    "\n",
    "            # Backward and optimize\n",
    "            train_loss_final.backward()\n",
    "            optimizer_final.step()\n",
    "\n",
    "        \n",
    "        # evaluate model\n",
    "        model_runs.eval()\n",
    "        model_winner.eval()\n",
    "        model_final.eval()\n",
    "        with torch.no_grad():\n",
    "            for x, s, y in test_loader:\n",
    "                x = x.to(device)\n",
    "                s = s.to(device)\n",
    "                y = y.to(device)\n",
    "\n",
    "                # Forward pass\n",
    "                out_runs, _ = model_runs(x, s)\n",
    "                test_loss_runs = criterion(out_runs, y[:, :, 0])\n",
    "\n",
    "                out_winner, _ = model_winner(x, s)\n",
    "                test_loss_winner = criterion(out_winner, y[:, :, 1])\n",
    "\n",
    "                out_final, _ = model_final(x, s)\n",
    "                test_loss_final = criterion(out_final, y[:, :, 2])\n",
    "\n",
    "        print(f'Epoch [{epoch+1}/{epochs}], Train Runs: {train_loss_runs.item():.4f}, Test Runs: {test_loss_runs.item():.4f} Train Winner: {train_loss_winner.item():.4f}, Test Winner: {test_loss_winner.item():.4f} Train Final: {train_loss_final.item():.4f}, Test Final: {test_loss_final.item():.4f}')"
   ]
  },
  {
   "cell_type": "code",
   "execution_count": 27,
   "metadata": {},
   "outputs": [],
   "source": [
    "input_sequence_features = 19 # Hin\n",
    "sequence_length = 40 # L\n",
    "hidden_size = 40 # Hout\n",
    "num_layers = 3\n",
    "number_of_features = 30"
   ]
  },
  {
   "cell_type": "code",
   "execution_count": 32,
   "metadata": {},
   "outputs": [
    {
     "data": {
      "text/plain": [
       "CricketRNN(\n",
       "  (rnn): RNN(19, 40, num_layers=3, batch_first=True)\n",
       "  (output_fc): Sequential(\n",
       "    (0): Linear(in_features=1600, out_features=40, bias=True)\n",
       "  )\n",
       "  (h0_fc): Sequential(\n",
       "    (0): Linear(in_features=30, out_features=120, bias=True)\n",
       "    (1): ReLU()\n",
       "  )\n",
       ")"
      ]
     },
     "execution_count": 32,
     "metadata": {},
     "output_type": "execute_result"
    }
   ],
   "source": [
    "# model setup\n",
    "model_runs = CricketRNN(input_sequence_features, sequence_length, hidden_size, num_layers, number_of_features)\n",
    "model_winner = CricketRNN(input_sequence_features, sequence_length, hidden_size, num_layers, number_of_features, regression=False)\n",
    "model_final = CricketRNN(input_sequence_features, sequence_length, hidden_size, num_layers, number_of_features)\n",
    "\n",
    "\n",
    "criterion = nn.MSELoss()\n",
    "    \n",
    "# Optimizer with l2 regularization\n",
    "optimizer_runs = optim.Adam(model_runs.parameters(), lr=0.001, weight_decay=0.0001)\n",
    "optimizer_winner = optim.Adam(model_winner.parameters(), lr=0.001, weight_decay=0.0001)\n",
    "optimizer_final = optim.Adam(model_final.parameters(), lr=0.001, weight_decay=0.0001)\n",
    "\n",
    "model_runs.to(device)\n",
    "model_winner.to(device)\n",
    "model_final.to(device)"
   ]
  },
  {
   "cell_type": "code",
   "execution_count": 33,
   "metadata": {},
   "outputs": [],
   "source": [
    "train, test = train_test_split(matches_info, test_size=0.2, random_state=42)"
   ]
  },
  {
   "cell_type": "code",
   "execution_count": 34,
   "metadata": {},
   "outputs": [],
   "source": [
    "train_loader = DataLoader(MatchesDetailsDataset(train, matches_details, targets), batch_size=32, shuffle=False)"
   ]
  },
  {
   "cell_type": "code",
   "execution_count": 35,
   "metadata": {},
   "outputs": [],
   "source": [
    "test_loader = DataLoader(MatchesDetailsDataset(test, matches_details, targets), batch_size=32, shuffle=False)"
   ]
  },
  {
   "cell_type": "code",
   "execution_count": 38,
   "metadata": {},
   "outputs": [
    {
     "name": "stdout",
     "output_type": "stream",
     "text": [
      "Epoch [1/200], Train Runs: 549.8566, Test Runs: 713.4745 Train Winner: 0.3450, Test Winner: 0.6683 Train Final: 11456.4746, Test Final: 14295.4648\n",
      "Epoch [2/200], Train Runs: 549.2979, Test Runs: 713.2053 Train Winner: 0.4738, Test Winner: 0.6525 Train Final: 11416.7178, Test Final: 14243.1875\n",
      "Epoch [3/200], Train Runs: 549.0011, Test Runs: 712.7888 Train Winner: 0.3843, Test Winner: 0.6631 Train Final: 11404.3906, Test Final: 14179.1084\n",
      "Epoch [4/200], Train Runs: 548.7251, Test Runs: 712.4807 Train Winner: 0.2629, Test Winner: 0.6856 Train Final: 11392.6211, Test Final: 14139.8545\n",
      "Epoch [5/200], Train Runs: 119.4871, Test Runs: 127.5081 Train Winner: 0.2302, Test Winner: 0.6870 Train Final: 11387.1787, Test Final: 14129.4072\n",
      "Epoch [6/200], Train Runs: 111.8599, Test Runs: 122.2161 Train Winner: 0.1744, Test Winner: 0.6872 Train Final: 11381.9824, Test Final: 14125.0625\n",
      "Epoch [7/200], Train Runs: 111.0636, Test Runs: 121.6634 Train Winner: 0.1389, Test Winner: 0.7128 Train Final: 11376.3613, Test Final: 14120.0674\n",
      "Epoch [8/200], Train Runs: 110.2952, Test Runs: 121.2920 Train Winner: 0.0944, Test Winner: 0.7306 Train Final: 11371.6787, Test Final: 14115.6348\n",
      "Epoch [9/200], Train Runs: 109.9245, Test Runs: 120.8692 Train Winner: 0.0657, Test Winner: 0.6784 Train Final: 11369.3271, Test Final: 14112.7686\n",
      "Epoch [10/200], Train Runs: 109.6306, Test Runs: 120.6528 Train Winner: 0.1156, Test Winner: 0.7975 Train Final: 11368.7002, Test Final: 14110.7227\n",
      "Epoch [11/200], Train Runs: 109.3352, Test Runs: 120.5080 Train Winner: 0.0578, Test Winner: 0.7543 Train Final: 11368.3945, Test Final: 14109.4492\n",
      "Epoch [12/200], Train Runs: 109.1108, Test Runs: 120.2699 Train Winner: 0.0522, Test Winner: 0.8500 Train Final: 11367.6367, Test Final: 14108.4727\n",
      "Epoch [13/200], Train Runs: 108.9301, Test Runs: 120.0498 Train Winner: 0.0486, Test Winner: 0.8926 Train Final: 11366.5342, Test Final: 14107.6348\n",
      "Epoch [14/200], Train Runs: 108.7313, Test Runs: 119.9189 Train Winner: 0.0519, Test Winner: 0.8583 Train Final: 11365.2520, Test Final: 14107.1201\n",
      "Epoch [15/200], Train Runs: 108.5719, Test Runs: 119.8338 Train Winner: 0.0504, Test Winner: 0.9764 Train Final: 11364.0059, Test Final: 14106.6494\n",
      "Epoch [16/200], Train Runs: 108.4270, Test Runs: 119.8112 Train Winner: 0.0528, Test Winner: 0.8212 Train Final: 11362.8945, Test Final: 14106.2822\n",
      "Epoch [17/200], Train Runs: 108.3080, Test Runs: 119.8110 Train Winner: 0.0483, Test Winner: 0.7146 Train Final: 11361.7812, Test Final: 14105.8994\n",
      "Epoch [18/200], Train Runs: 108.2104, Test Runs: 119.7467 Train Winner: 0.0484, Test Winner: 0.8013 Train Final: 11360.7002, Test Final: 14105.4873\n",
      "Epoch [19/200], Train Runs: 108.1364, Test Runs: 119.6226 Train Winner: 0.0942, Test Winner: 0.7532 Train Final: 11359.7471, Test Final: 14104.9824\n",
      "Epoch [20/200], Train Runs: 108.0745, Test Runs: 119.4703 Train Winner: 0.0846, Test Winner: 0.7345 Train Final: 11358.7900, Test Final: 14104.5381\n",
      "Epoch [21/200], Train Runs: 108.0080, Test Runs: 119.2747 Train Winner: 0.0606, Test Winner: 0.8410 Train Final: 11357.9902, Test Final: 14104.0947\n",
      "Epoch [22/200], Train Runs: 107.9326, Test Runs: 119.0490 Train Winner: 0.0475, Test Winner: 0.7595 Train Final: 11356.9863, Test Final: 14103.6299\n",
      "Epoch [23/200], Train Runs: 107.8534, Test Runs: 118.8356 Train Winner: 0.0697, Test Winner: 0.7751 Train Final: 11356.2666, Test Final: 14103.1943\n",
      "Epoch [24/200], Train Runs: 107.7838, Test Runs: 118.6640 Train Winner: 0.1117, Test Winner: 0.7281 Train Final: 11355.3682, Test Final: 14102.6973\n",
      "Epoch [25/200], Train Runs: 107.7314, Test Runs: 118.5072 Train Winner: 0.0690, Test Winner: 0.6862 Train Final: 10877.9082, Test Final: 13461.7871\n",
      "Epoch [26/200], Train Runs: 107.6633, Test Runs: 118.3514 Train Winner: 0.0610, Test Winner: 0.7631 Train Final: 10868.1836, Test Final: 13441.6250\n",
      "Epoch [27/200], Train Runs: 107.5954, Test Runs: 118.2150 Train Winner: 0.0475, Test Winner: 0.6756 Train Final: 10867.0352, Test Final: 13440.3047\n",
      "Epoch [28/200], Train Runs: 107.5327, Test Runs: 118.0860 Train Winner: 0.0475, Test Winner: 0.8550 Train Final: 10866.0850, Test Final: 13439.3613\n",
      "Epoch [29/200], Train Runs: 107.4803, Test Runs: 117.9890 Train Winner: 0.0438, Test Winner: 0.8216 Train Final: 10865.3135, Test Final: 13439.0859\n",
      "Epoch [30/200], Train Runs: 107.4300, Test Runs: 117.8965 Train Winner: 0.0383, Test Winner: 0.8052 Train Final: 10864.3633, Test Final: 13438.4238\n",
      "Epoch [31/200], Train Runs: 107.3900, Test Runs: 117.8200 Train Winner: 0.0382, Test Winner: 0.7908 Train Final: 10863.6270, Test Final: 13438.1396\n",
      "Epoch [32/200], Train Runs: 107.3475, Test Runs: 117.7486 Train Winner: 0.0350, Test Winner: 0.8757 Train Final: 10863.2637, Test Final: 13437.8721\n",
      "Epoch [33/200], Train Runs: 107.3202, Test Runs: 117.6824 Train Winner: 0.0412, Test Winner: 0.8132 Train Final: 10862.6055, Test Final: 13437.4775\n",
      "Epoch [34/200], Train Runs: 107.3050, Test Runs: 117.6190 Train Winner: 0.0270, Test Winner: 0.9035 Train Final: 10861.9990, Test Final: 13436.8896\n",
      "Epoch [35/200], Train Runs: 107.3186, Test Runs: 117.5658 Train Winner: 0.0334, Test Winner: 1.1535 Train Final: 10861.6025, Test Final: 13436.9600\n",
      "Epoch [36/200], Train Runs: 107.3461, Test Runs: 117.5116 Train Winner: 0.0342, Test Winner: 0.9821 Train Final: 10861.1084, Test Final: 13436.6445\n",
      "Epoch [37/200], Train Runs: 107.4331, Test Runs: 117.4943 Train Winner: 0.0464, Test Winner: 0.9350 Train Final: 10860.8350, Test Final: 13436.5996\n",
      "Epoch [38/200], Train Runs: 107.5893, Test Runs: 117.5954 Train Winner: 0.0311, Test Winner: 0.9812 Train Final: 10860.3652, Test Final: 13436.4697\n",
      "Epoch [39/200], Train Runs: 107.6112, Test Runs: 118.1741 Train Winner: 0.0379, Test Winner: 1.0638 Train Final: 10860.1416, Test Final: 13436.2227\n",
      "Epoch [40/200], Train Runs: 107.3511, Test Runs: 118.3422 Train Winner: 0.0301, Test Winner: 1.0196 Train Final: 10860.0498, Test Final: 13436.4619\n",
      "Epoch [41/200], Train Runs: 107.2831, Test Runs: 117.4719 Train Winner: 0.0311, Test Winner: 0.9781 Train Final: 10859.8398, Test Final: 13436.2852\n",
      "Epoch [42/200], Train Runs: 106.9431, Test Runs: 117.5364 Train Winner: 0.0441, Test Winner: 1.0219 Train Final: 10859.4736, Test Final: 13436.5049\n",
      "Epoch [43/200], Train Runs: 106.9142, Test Runs: 117.6000 Train Winner: 0.0269, Test Winner: 1.0456 Train Final: 10859.8223, Test Final: 13436.1611\n",
      "Epoch [44/200], Train Runs: 106.8809, Test Runs: 117.5637 Train Winner: 0.0248, Test Winner: 1.1760 Train Final: 10859.2295, Test Final: 13436.3301\n",
      "Epoch [45/200], Train Runs: 106.8731, Test Runs: 117.4479 Train Winner: 0.0232, Test Winner: 0.9844 Train Final: 10859.1094, Test Final: 13436.8223\n",
      "Epoch [46/200], Train Runs: 106.8662, Test Runs: 117.3670 Train Winner: 0.0199, Test Winner: 1.1263 Train Final: 10859.1016, Test Final: 13436.6318\n",
      "Epoch [47/200], Train Runs: 106.8497, Test Runs: 117.3382 Train Winner: 0.0986, Test Winner: 1.2365 Train Final: 10858.6846, Test Final: 13436.6943\n",
      "Epoch [48/200], Train Runs: 106.8230, Test Runs: 117.3277 Train Winner: 0.0220, Test Winner: 1.1957 Train Final: 10858.3281, Test Final: 13436.6260\n",
      "Epoch [49/200], Train Runs: 106.8178, Test Runs: 117.3095 Train Winner: 0.0289, Test Winner: 1.3792 Train Final: 10858.4531, Test Final: 13437.3262\n",
      "Epoch [50/200], Train Runs: 106.8249, Test Runs: 117.3049 Train Winner: 0.0248, Test Winner: 1.1274 Train Final: 10858.4639, Test Final: 13437.4111\n",
      "Epoch [51/200], Train Runs: 106.9119, Test Runs: 117.3582 Train Winner: 0.0282, Test Winner: 1.2581 Train Final: 10857.9658, Test Final: 13437.0293\n"
     ]
    },
    {
     "ename": "KeyboardInterrupt",
     "evalue": "",
     "output_type": "error",
     "traceback": [
      "\u001b[1;31m---------------------------------------------------------------------------\u001b[0m",
      "\u001b[1;31mKeyboardInterrupt\u001b[0m                         Traceback (most recent call last)",
      "Cell \u001b[1;32mIn [38], line 2\u001b[0m\n\u001b[0;32m      1\u001b[0m \u001b[39m# train the model\u001b[39;00m\n\u001b[1;32m----> 2\u001b[0m train_model(model_runs, model_winner, model_final, train_loader, test_loader, optimizer_runs, optimizer_winner, optimizer_final, criterion, \u001b[39m200\u001b[39;49m)\n",
      "Cell \u001b[1;32mIn [37], line 49\u001b[0m, in \u001b[0;36mtrain_model\u001b[1;34m(model_runs, model_winner, model_final, train_loader, test_loader, optimizer_runs, optimizer_winner, optimizer_final, criterion, epochs)\u001b[0m\n\u001b[0;32m     47\u001b[0m model_final\u001b[39m.\u001b[39meval()\n\u001b[0;32m     48\u001b[0m \u001b[39mwith\u001b[39;00m torch\u001b[39m.\u001b[39mno_grad():\n\u001b[1;32m---> 49\u001b[0m     \u001b[39mfor\u001b[39;00m x, s, y \u001b[39min\u001b[39;00m test_loader:\n\u001b[0;32m     50\u001b[0m         x \u001b[39m=\u001b[39m x\u001b[39m.\u001b[39mto(device)\n\u001b[0;32m     51\u001b[0m         s \u001b[39m=\u001b[39m s\u001b[39m.\u001b[39mto(device)\n",
      "File \u001b[1;32m~\\AppData\\Roaming\\Python\\Python310\\site-packages\\torch\\utils\\data\\dataloader.py:681\u001b[0m, in \u001b[0;36m_BaseDataLoaderIter.__next__\u001b[1;34m(self)\u001b[0m\n\u001b[0;32m    678\u001b[0m \u001b[39mif\u001b[39;00m \u001b[39mself\u001b[39m\u001b[39m.\u001b[39m_sampler_iter \u001b[39mis\u001b[39;00m \u001b[39mNone\u001b[39;00m:\n\u001b[0;32m    679\u001b[0m     \u001b[39m# TODO(https://github.com/pytorch/pytorch/issues/76750)\u001b[39;00m\n\u001b[0;32m    680\u001b[0m     \u001b[39mself\u001b[39m\u001b[39m.\u001b[39m_reset()  \u001b[39m# type: ignore[call-arg]\u001b[39;00m\n\u001b[1;32m--> 681\u001b[0m data \u001b[39m=\u001b[39m \u001b[39mself\u001b[39;49m\u001b[39m.\u001b[39;49m_next_data()\n\u001b[0;32m    682\u001b[0m \u001b[39mself\u001b[39m\u001b[39m.\u001b[39m_num_yielded \u001b[39m+\u001b[39m\u001b[39m=\u001b[39m \u001b[39m1\u001b[39m\n\u001b[0;32m    683\u001b[0m \u001b[39mif\u001b[39;00m \u001b[39mself\u001b[39m\u001b[39m.\u001b[39m_dataset_kind \u001b[39m==\u001b[39m _DatasetKind\u001b[39m.\u001b[39mIterable \u001b[39mand\u001b[39;00m \\\n\u001b[0;32m    684\u001b[0m         \u001b[39mself\u001b[39m\u001b[39m.\u001b[39m_IterableDataset_len_called \u001b[39mis\u001b[39;00m \u001b[39mnot\u001b[39;00m \u001b[39mNone\u001b[39;00m \u001b[39mand\u001b[39;00m \\\n\u001b[0;32m    685\u001b[0m         \u001b[39mself\u001b[39m\u001b[39m.\u001b[39m_num_yielded \u001b[39m>\u001b[39m \u001b[39mself\u001b[39m\u001b[39m.\u001b[39m_IterableDataset_len_called:\n",
      "File \u001b[1;32m~\\AppData\\Roaming\\Python\\Python310\\site-packages\\torch\\utils\\data\\dataloader.py:721\u001b[0m, in \u001b[0;36m_SingleProcessDataLoaderIter._next_data\u001b[1;34m(self)\u001b[0m\n\u001b[0;32m    719\u001b[0m \u001b[39mdef\u001b[39;00m \u001b[39m_next_data\u001b[39m(\u001b[39mself\u001b[39m):\n\u001b[0;32m    720\u001b[0m     index \u001b[39m=\u001b[39m \u001b[39mself\u001b[39m\u001b[39m.\u001b[39m_next_index()  \u001b[39m# may raise StopIteration\u001b[39;00m\n\u001b[1;32m--> 721\u001b[0m     data \u001b[39m=\u001b[39m \u001b[39mself\u001b[39;49m\u001b[39m.\u001b[39;49m_dataset_fetcher\u001b[39m.\u001b[39;49mfetch(index)  \u001b[39m# may raise StopIteration\u001b[39;00m\n\u001b[0;32m    722\u001b[0m     \u001b[39mif\u001b[39;00m \u001b[39mself\u001b[39m\u001b[39m.\u001b[39m_pin_memory:\n\u001b[0;32m    723\u001b[0m         data \u001b[39m=\u001b[39m _utils\u001b[39m.\u001b[39mpin_memory\u001b[39m.\u001b[39mpin_memory(data, \u001b[39mself\u001b[39m\u001b[39m.\u001b[39m_pin_memory_device)\n",
      "File \u001b[1;32m~\\AppData\\Roaming\\Python\\Python310\\site-packages\\torch\\utils\\data\\_utils\\fetch.py:49\u001b[0m, in \u001b[0;36m_MapDatasetFetcher.fetch\u001b[1;34m(self, possibly_batched_index)\u001b[0m\n\u001b[0;32m     47\u001b[0m \u001b[39mdef\u001b[39;00m \u001b[39mfetch\u001b[39m(\u001b[39mself\u001b[39m, possibly_batched_index):\n\u001b[0;32m     48\u001b[0m     \u001b[39mif\u001b[39;00m \u001b[39mself\u001b[39m\u001b[39m.\u001b[39mauto_collation:\n\u001b[1;32m---> 49\u001b[0m         data \u001b[39m=\u001b[39m [\u001b[39mself\u001b[39m\u001b[39m.\u001b[39mdataset[idx] \u001b[39mfor\u001b[39;00m idx \u001b[39min\u001b[39;00m possibly_batched_index]\n\u001b[0;32m     50\u001b[0m     \u001b[39melse\u001b[39;00m:\n\u001b[0;32m     51\u001b[0m         data \u001b[39m=\u001b[39m \u001b[39mself\u001b[39m\u001b[39m.\u001b[39mdataset[possibly_batched_index]\n",
      "File \u001b[1;32m~\\AppData\\Roaming\\Python\\Python310\\site-packages\\torch\\utils\\data\\_utils\\fetch.py:49\u001b[0m, in \u001b[0;36m<listcomp>\u001b[1;34m(.0)\u001b[0m\n\u001b[0;32m     47\u001b[0m \u001b[39mdef\u001b[39;00m \u001b[39mfetch\u001b[39m(\u001b[39mself\u001b[39m, possibly_batched_index):\n\u001b[0;32m     48\u001b[0m     \u001b[39mif\u001b[39;00m \u001b[39mself\u001b[39m\u001b[39m.\u001b[39mauto_collation:\n\u001b[1;32m---> 49\u001b[0m         data \u001b[39m=\u001b[39m [\u001b[39mself\u001b[39;49m\u001b[39m.\u001b[39;49mdataset[idx] \u001b[39mfor\u001b[39;00m idx \u001b[39min\u001b[39;00m possibly_batched_index]\n\u001b[0;32m     50\u001b[0m     \u001b[39melse\u001b[39;00m:\n\u001b[0;32m     51\u001b[0m         data \u001b[39m=\u001b[39m \u001b[39mself\u001b[39m\u001b[39m.\u001b[39mdataset[possibly_batched_index]\n",
      "Cell \u001b[1;32mIn [31], line 13\u001b[0m, in \u001b[0;36mMatchesDetailsDataset.__getitem__\u001b[1;34m(self, idx)\u001b[0m\n\u001b[0;32m     11\u001b[0m \u001b[39mdef\u001b[39;00m \u001b[39m__getitem__\u001b[39m(\u001b[39mself\u001b[39m, idx):\n\u001b[0;32m     12\u001b[0m     match_info \u001b[39m=\u001b[39m \u001b[39mself\u001b[39m\u001b[39m.\u001b[39mmatches_info\u001b[39m.\u001b[39miloc[idx]\u001b[39m.\u001b[39mastype(np\u001b[39m.\u001b[39mfloat32)\u001b[39m.\u001b[39mvalues\n\u001b[1;32m---> 13\u001b[0m     match_details \u001b[39m=\u001b[39m \u001b[39mself\u001b[39m\u001b[39m.\u001b[39mmatches_details[\u001b[39mself\u001b[39;49m\u001b[39m.\u001b[39;49mmatches_details[\u001b[39m'\u001b[39;49m\u001b[39mid\u001b[39;49m\u001b[39m'\u001b[39;49m] \u001b[39m==\u001b[39;49m match_info[\u001b[39m0\u001b[39;49m]]\u001b[39m.\u001b[39mastype(np\u001b[39m.\u001b[39mfloat32)\u001b[39m.\u001b[39mvalues\n\u001b[0;32m     14\u001b[0m     target \u001b[39m=\u001b[39m \u001b[39mself\u001b[39m\u001b[39m.\u001b[39mtargets[\u001b[39mself\u001b[39m\u001b[39m.\u001b[39mtargets[\u001b[39m'\u001b[39m\u001b[39mid\u001b[39m\u001b[39m'\u001b[39m] \u001b[39m==\u001b[39m match_info[\u001b[39m0\u001b[39m]]\u001b[39m.\u001b[39mastype(np\u001b[39m.\u001b[39mfloat32)\u001b[39m.\u001b[39mvalues\n\u001b[0;32m     16\u001b[0m     \u001b[39m# remove id\u001b[39;00m\n",
      "File \u001b[1;32m~\\AppData\\Roaming\\Python\\Python310\\site-packages\\pandas\\core\\ops\\common.py:70\u001b[0m, in \u001b[0;36m_unpack_zerodim_and_defer.<locals>.new_method\u001b[1;34m(self, other)\u001b[0m\n\u001b[0;32m     66\u001b[0m             \u001b[39mreturn\u001b[39;00m \u001b[39mNotImplemented\u001b[39m\n\u001b[0;32m     68\u001b[0m other \u001b[39m=\u001b[39m item_from_zerodim(other)\n\u001b[1;32m---> 70\u001b[0m \u001b[39mreturn\u001b[39;00m method(\u001b[39mself\u001b[39;49m, other)\n",
      "File \u001b[1;32m~\\AppData\\Roaming\\Python\\Python310\\site-packages\\pandas\\core\\arraylike.py:40\u001b[0m, in \u001b[0;36mOpsMixin.__eq__\u001b[1;34m(self, other)\u001b[0m\n\u001b[0;32m     38\u001b[0m \u001b[39m@unpack_zerodim_and_defer\u001b[39m(\u001b[39m\"\u001b[39m\u001b[39m__eq__\u001b[39m\u001b[39m\"\u001b[39m)\n\u001b[0;32m     39\u001b[0m \u001b[39mdef\u001b[39;00m \u001b[39m__eq__\u001b[39m(\u001b[39mself\u001b[39m, other):\n\u001b[1;32m---> 40\u001b[0m     \u001b[39mreturn\u001b[39;00m \u001b[39mself\u001b[39;49m\u001b[39m.\u001b[39;49m_cmp_method(other, operator\u001b[39m.\u001b[39;49meq)\n",
      "File \u001b[1;32m~\\AppData\\Roaming\\Python\\Python310\\site-packages\\pandas\\core\\series.py:5623\u001b[0m, in \u001b[0;36mSeries._cmp_method\u001b[1;34m(self, other, op)\u001b[0m\n\u001b[0;32m   5620\u001b[0m rvalues \u001b[39m=\u001b[39m extract_array(other, extract_numpy\u001b[39m=\u001b[39m\u001b[39mTrue\u001b[39;00m, extract_range\u001b[39m=\u001b[39m\u001b[39mTrue\u001b[39;00m)\n\u001b[0;32m   5622\u001b[0m \u001b[39mwith\u001b[39;00m np\u001b[39m.\u001b[39merrstate(\u001b[39mall\u001b[39m\u001b[39m=\u001b[39m\u001b[39m\"\u001b[39m\u001b[39mignore\u001b[39m\u001b[39m\"\u001b[39m):\n\u001b[1;32m-> 5623\u001b[0m     res_values \u001b[39m=\u001b[39m ops\u001b[39m.\u001b[39;49mcomparison_op(lvalues, rvalues, op)\n\u001b[0;32m   5625\u001b[0m \u001b[39mreturn\u001b[39;00m \u001b[39mself\u001b[39m\u001b[39m.\u001b[39m_construct_result(res_values, name\u001b[39m=\u001b[39mres_name)\n",
      "File \u001b[1;32m~\\AppData\\Roaming\\Python\\Python310\\site-packages\\pandas\\core\\ops\\array_ops.py:286\u001b[0m, in \u001b[0;36mcomparison_op\u001b[1;34m(left, right, op)\u001b[0m\n\u001b[0;32m    283\u001b[0m     res_values \u001b[39m=\u001b[39m comp_method_OBJECT_ARRAY(op, lvalues, rvalues)\n\u001b[0;32m    285\u001b[0m \u001b[39melse\u001b[39;00m:\n\u001b[1;32m--> 286\u001b[0m     res_values \u001b[39m=\u001b[39m _na_arithmetic_op(lvalues, rvalues, op, is_cmp\u001b[39m=\u001b[39;49m\u001b[39mTrue\u001b[39;49;00m)\n\u001b[0;32m    288\u001b[0m \u001b[39mreturn\u001b[39;00m res_values\n",
      "File \u001b[1;32m~\\AppData\\Roaming\\Python\\Python310\\site-packages\\pandas\\core\\ops\\array_ops.py:163\u001b[0m, in \u001b[0;36m_na_arithmetic_op\u001b[1;34m(left, right, op, is_cmp)\u001b[0m\n\u001b[0;32m    160\u001b[0m     func \u001b[39m=\u001b[39m partial(expressions\u001b[39m.\u001b[39mevaluate, op)\n\u001b[0;32m    162\u001b[0m \u001b[39mtry\u001b[39;00m:\n\u001b[1;32m--> 163\u001b[0m     result \u001b[39m=\u001b[39m func(left, right)\n\u001b[0;32m    164\u001b[0m \u001b[39mexcept\u001b[39;00m \u001b[39mTypeError\u001b[39;00m:\n\u001b[0;32m    165\u001b[0m     \u001b[39mif\u001b[39;00m \u001b[39mnot\u001b[39;00m is_cmp \u001b[39mand\u001b[39;00m (is_object_dtype(left\u001b[39m.\u001b[39mdtype) \u001b[39mor\u001b[39;00m is_object_dtype(right)):\n\u001b[0;32m    166\u001b[0m         \u001b[39m# For object dtype, fallback to a masked operation (only operating\u001b[39;00m\n\u001b[0;32m    167\u001b[0m         \u001b[39m#  on the non-missing values)\u001b[39;00m\n\u001b[0;32m    168\u001b[0m         \u001b[39m# Don't do this for comparisons, as that will handle complex numbers\u001b[39;00m\n\u001b[0;32m    169\u001b[0m         \u001b[39m#  incorrectly, see GH#32047\u001b[39;00m\n",
      "File \u001b[1;32m~\\AppData\\Roaming\\Python\\Python310\\site-packages\\pandas\\core\\computation\\expressions.py:239\u001b[0m, in \u001b[0;36mevaluate\u001b[1;34m(op, a, b, use_numexpr)\u001b[0m\n\u001b[0;32m    236\u001b[0m \u001b[39mif\u001b[39;00m op_str \u001b[39mis\u001b[39;00m \u001b[39mnot\u001b[39;00m \u001b[39mNone\u001b[39;00m:\n\u001b[0;32m    237\u001b[0m     \u001b[39mif\u001b[39;00m use_numexpr:\n\u001b[0;32m    238\u001b[0m         \u001b[39m# error: \"None\" not callable\u001b[39;00m\n\u001b[1;32m--> 239\u001b[0m         \u001b[39mreturn\u001b[39;00m _evaluate(op, op_str, a, b)  \u001b[39m# type: ignore[misc]\u001b[39;00m\n\u001b[0;32m    240\u001b[0m \u001b[39mreturn\u001b[39;00m _evaluate_standard(op, op_str, a, b)\n",
      "File \u001b[1;32m~\\AppData\\Roaming\\Python\\Python310\\site-packages\\pandas\\core\\computation\\expressions.py:69\u001b[0m, in \u001b[0;36m_evaluate_standard\u001b[1;34m(op, op_str, a, b)\u001b[0m\n\u001b[0;32m     67\u001b[0m \u001b[39mif\u001b[39;00m _TEST_MODE:\n\u001b[0;32m     68\u001b[0m     _store_test_result(\u001b[39mFalse\u001b[39;00m)\n\u001b[1;32m---> 69\u001b[0m \u001b[39mreturn\u001b[39;00m op(a, b)\n",
      "\u001b[1;31mKeyboardInterrupt\u001b[0m: "
     ]
    }
   ],
   "source": [
    "# train the model\n",
    "train_model(model_runs, model_winner, model_final, train_loader, test_loader, optimizer_runs, optimizer_winner, optimizer_final, criterion, 200)"
   ]
  },
  {
   "cell_type": "code",
   "execution_count": null,
   "metadata": {},
   "outputs": [],
   "source": []
  }
 ],
 "metadata": {
  "kernelspec": {
   "display_name": "Python 3.10.5 64-bit",
   "language": "python",
   "name": "python3"
  },
  "language_info": {
   "codemirror_mode": {
    "name": "ipython",
    "version": 3
   },
   "file_extension": ".py",
   "mimetype": "text/x-python",
   "name": "python",
   "nbconvert_exporter": "python",
   "pygments_lexer": "ipython3",
   "version": "3.10.5"
  },
  "orig_nbformat": 4,
  "vscode": {
   "interpreter": {
    "hash": "26de051ba29f2982a8de78e945f0abaf191376122a1563185a90213a26c5da77"
   }
  }
 },
 "nbformat": 4,
 "nbformat_minor": 2
}
