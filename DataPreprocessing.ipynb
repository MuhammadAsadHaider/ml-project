{
 "cells": [
  {
   "cell_type": "code",
   "execution_count": 1,
   "metadata": {},
   "outputs": [],
   "source": [
    "import json\n",
    "import pandas as pd\n",
    "import numpy as np\n",
    "import glob\n",
    "import os\n",
    "from datetime import datetime\n",
    "from tqdm import tqdm"
   ]
  },
  {
   "cell_type": "code",
   "execution_count": 9,
   "metadata": {},
   "outputs": [],
   "source": [
    "def extract_match_data(match_file, career_averages, player_info = False):\n",
    "\n",
    "    # extract file name from the path\n",
    "    match_id = os.path.basename(match_file).split('.')[0]\n",
    "\n",
    "    # read json file\n",
    "    with open(match_file) as f:\n",
    "        data = json.load(f)\n",
    "    \n",
    "    info = dict()\n",
    "    info_reverse = dict()\n",
    "    info['id'] = match_id\n",
    "    info_reverse['id'] = match_id\n",
    "    info['date'] = datetime.strptime(data['info']['dates'][0], '%Y-%m-%d')\n",
    "    info_reverse['date'] = datetime.strptime(data['info']['dates'][0], '%Y-%m-%d')\n",
    "    info['match_type'] = data['info']['match_type']\n",
    "    info_reverse['match_type'] = data['info']['match_type']\n",
    "    info['venue'] = data['info']['venue']\n",
    "    info_reverse['venue'] = data['info']['venue']\n",
    "    info['city'] = data['info']['city'] if 'city' in data['info'] else None\n",
    "    info_reverse['city'] = data['info']['city'] if 'city' in data['info'] else None\n",
    "    info['gender'] = data['info']['gender']\n",
    "    info_reverse['gender'] = data['info']['gender']\n",
    "    info['team_type'] = data['info']['team_type']\n",
    "    info_reverse['team_type'] = data['info']['team_type']\n",
    "    info['team1'] = data['info']['teams'][0]\n",
    "    info_reverse['team2'] = data['info']['teams'][0]\n",
    "    info['team2'] = data['info']['teams'][1]\n",
    "    info_reverse['team1'] = data['info']['teams'][1]\n",
    "    info['outcome'] = data['info']['outcome']['winner'] if 'winner' in data['info']['outcome'] else 'draw'\n",
    "    info_reverse['outcome'] = data['info']['outcome']['winner'] if 'winner' in data['info']['outcome'] else 'draw'\n",
    "    info['toss_winner'] = data['info']['toss']['winner']\n",
    "    info_reverse['toss_winner'] = data['info']['toss']['winner']\n",
    "    info['toss_decision'] = data['info']['toss']['decision']\n",
    "    info_reverse['toss_decision'] = data['info']['toss']['decision']\n",
    "    try:\n",
    "        info['target'] = data['innings'][1]['target']['runs'] if 'target' in data['innings'][1] else (1+sum([i for i in map(lambda x: sum([j for j in map(lambda y: y['runs']['total'], x['deliveries'])]), data['innings'][0]['overs'])]))\n",
    "        info_reverse['target'] = info['target']\n",
    "    except:\n",
    "        return None\n",
    "\n",
    "    if player_info:\n",
    "        # get team players\n",
    "        team1_players = career_averages[career_averages['identifier'].isin([data['info']['registry']['people'][player] for player in data['info']['players'][data['info']['teams'][0]]])]\n",
    "        team2_players = career_averages[career_averages['identifier'].isin([data['info']['registry']['people'][player] for player in data['info']['players'][data['info']['teams'][1]]])]\n",
    "        # get team averages\n",
    "        info['team1_batting_average'] = team1_players[team1_players['batting_average'] != 0]['batting_average'].values.mean()\n",
    "        info['team1_batting_strike_rate'] = team1_players[team1_players['batting_strike_rate'] != 0]['batting_strike_rate'].values.mean()\n",
    "        info['team1_batting_100s_normalized'] = team1_players[team1_players['batting_100s_normalized'] != 0]['batting_100s_normalized'].values.mean()\n",
    "        info['team1_batting_50s_normalized'] = team1_players[team1_players['batting_50s_normalized'] != 0]['batting_50s_normalized'].values.mean()\n",
    "        info['team1_batting_6s_normalized'] = team1_players[team1_players['batting_6s_normalized'] != 0]['batting_6s_normalized'].values.mean()\n",
    "        info['team1_batting_4s_normalized'] = team1_players[team1_players['batting_4s_normalized'] != 0]['batting_4s_normalized'].values.mean()\n",
    "        info['team1_bowling_average'] = team1_players[team1_players['bowling_average'] != 0]['bowling_average'].values.mean()\n",
    "        info['team1_bowling_strike_rate'] = team1_players[team1_players['bowling_strike_rate'] != 0]['bowling_strike_rate'].values.mean()\n",
    "        info['team1_bowling_economy'] = team1_players[team1_players['bowling_economy'] != 0]['bowling_economy'].values.mean()\n",
    "        info['team1_bowling_maidens_normalized'] = team1_players[team1_players['bowling_maidens_normalized'] != 0]['bowling_maidens_normalized'].values.mean()\n",
    "\n",
    "        info['team2_batting_average'] = team2_players[team2_players['batting_average'] != 0]['batting_average'].values.mean()\n",
    "        info['team2_batting_strike_rate'] = team2_players[team2_players['batting_strike_rate'] != 0]['batting_strike_rate'].values.mean()\n",
    "        info['team2_batting_100s_normalized'] = team2_players[team2_players['batting_100s_normalized'] != 0]['batting_100s_normalized'].values.mean()\n",
    "        info['team2_batting_50s_normalized'] = team2_players[team2_players['batting_50s_normalized'] != 0]['batting_50s_normalized'].values.mean()\n",
    "        info['team2_batting_6s_normalized'] = team2_players[team2_players['batting_6s_normalized'] != 0]['batting_6s_normalized'].values.mean()\n",
    "        info['team2_batting_4s_normalized'] = team2_players[team2_players['batting_4s_normalized'] != 0]['batting_4s_normalized'].values.mean()\n",
    "        info['team2_bowling_average'] = team2_players[team2_players['bowling_average'] != 0]['bowling_average'].values.mean()\n",
    "        info['team2_bowling_strike_rate'] = team2_players[team2_players['bowling_strike_rate'] != 0]['bowling_strike_rate'].values.mean()\n",
    "        info['team2_bowling_economy'] = team2_players[team2_players['bowling_economy'] != 0]['bowling_economy'].values.mean()\n",
    "        info['team2_bowling_maidens_normalized'] = team2_players[team2_players['bowling_maidens_normalized'] != 0]['bowling_maidens_normalized'].values.mean()\n",
    "\n",
    "        info_reverse['team1_batting_average'] = info['team2_batting_average']\n",
    "        info_reverse['team1_batting_strike_rate'] = info['team2_batting_strike_rate']\n",
    "        info_reverse['team1_batting_100s_normalized'] = info['team2_batting_100s_normalized']\n",
    "        info_reverse['team1_batting_50s_normalized'] = info['team2_batting_50s_normalized']\n",
    "        info_reverse['team1_batting_6s_normalized'] = info['team2_batting_6s_normalized']\n",
    "        info_reverse['team1_batting_4s_normalized'] = info['team2_batting_4s_normalized']\n",
    "        info_reverse['team1_bowling_average'] = info['team2_bowling_average']\n",
    "        info_reverse['team1_bowling_strike_rate'] = info['team2_bowling_strike_rate']\n",
    "        info_reverse['team1_bowling_economy'] = info['team2_bowling_economy']\n",
    "        info_reverse['team1_bowling_maidens_normalized'] = info['team2_bowling_maidens_normalized']\n",
    "\n",
    "        info_reverse['team2_batting_average'] = info['team1_batting_average']\n",
    "        info_reverse['team2_batting_strike_rate'] = info['team1_batting_strike_rate']\n",
    "        info_reverse['team2_batting_100s_normalized'] = info['team1_batting_100s_normalized']\n",
    "        info_reverse['team2_batting_50s_normalized'] = info['team1_batting_50s_normalized']\n",
    "        info_reverse['team2_batting_6s_normalized'] = info['team1_batting_6s_normalized']\n",
    "        info_reverse['team2_batting_4s_normalized'] = info['team1_batting_4s_normalized']\n",
    "        info_reverse['team2_bowling_average'] = info['team1_bowling_average']\n",
    "        info_reverse['team2_bowling_strike_rate'] = info['team1_bowling_strike_rate']\n",
    "        info_reverse['team2_bowling_economy'] = info['team1_bowling_economy']\n",
    "        info_reverse['team2_bowling_maidens_normalized'] = info['team1_bowling_maidens_normalized']\n",
    "\n",
    "    # replace NaN with -1\n",
    "    info = {k: -1 if (isinstance(v, float) and np.isnan(v)) else v for k,v in info.items()}\n",
    "    info_reverse = {k: -1 if (isinstance(v, float) and np.isnan(v)) else v for k,v in info_reverse.items()}\n",
    "    return [info, info_reverse]"
   ]
  },
  {
   "cell_type": "code",
   "execution_count": 3,
   "metadata": {},
   "outputs": [],
   "source": [
    "# read all csv files in the folder using glob\n",
    "career_average_files = glob.glob('resources/temp/player_career_averages*.csv')"
   ]
  },
  {
   "cell_type": "code",
   "execution_count": 4,
   "metadata": {},
   "outputs": [],
   "source": [
    "# combine all files in the list\n",
    "career_average_df = pd.concat((pd.read_csv(f) for f in career_average_files))"
   ]
  },
  {
   "cell_type": "code",
   "execution_count": 5,
   "metadata": {},
   "outputs": [],
   "source": [
    "career_average_df.to_csv('resources/player_career_averages.csv', index=False)"
   ]
  },
  {
   "cell_type": "code",
   "execution_count": 6,
   "metadata": {},
   "outputs": [],
   "source": [
    "career_averages = pd.read_csv('resources/player_career_averages.csv')"
   ]
  },
  {
   "cell_type": "code",
   "execution_count": 7,
   "metadata": {},
   "outputs": [],
   "source": [
    "# read all json file names in the folder using glob\n",
    "match_files = glob.glob('matches/*.json')"
   ]
  },
  {
   "cell_type": "code",
   "execution_count": 10,
   "metadata": {},
   "outputs": [
    {
     "name": "stderr",
     "output_type": "stream",
     "text": [
      "  0%|          | 0/2364 [00:00<?, ?it/s]C:\\Users\\HP\\AppData\\Local\\Temp\\ipykernel_8704\\2640871445.py:60: RuntimeWarning: Mean of empty slice.\n",
      "  info['team2_batting_100s_normalized'] = team2_players[team2_players['batting_100s_normalized'] != 0]['batting_100s_normalized'].values.mean()\n",
      "C:\\Users\\HP\\AppData\\Roaming\\Python\\Python310\\site-packages\\numpy\\core\\_methods.py:190: RuntimeWarning: invalid value encountered in double_scalars\n",
      "  ret = ret.dtype.type(ret / rcount)\n",
      "  0%|          | 4/2364 [00:00<01:06, 35.71it/s]C:\\Users\\HP\\AppData\\Local\\Temp\\ipykernel_8704\\2640871445.py:49: RuntimeWarning: Mean of empty slice.\n",
      "  info['team1_batting_100s_normalized'] = team1_players[team1_players['batting_100s_normalized'] != 0]['batting_100s_normalized'].values.mean()\n",
      "  1%|          | 20/2364 [00:00<01:19, 29.40it/s]C:\\Users\\HP\\AppData\\Local\\Temp\\ipykernel_8704\\2640871445.py:47: RuntimeWarning: Mean of empty slice.\n",
      "  info['team1_batting_average'] = team1_players[team1_players['batting_average'] != 0]['batting_average'].values.mean()\n",
      "C:\\Users\\HP\\AppData\\Local\\Temp\\ipykernel_8704\\2640871445.py:48: RuntimeWarning: Mean of empty slice.\n",
      "  info['team1_batting_strike_rate'] = team1_players[team1_players['batting_strike_rate'] != 0]['batting_strike_rate'].values.mean()\n",
      "C:\\Users\\HP\\AppData\\Local\\Temp\\ipykernel_8704\\2640871445.py:50: RuntimeWarning: Mean of empty slice.\n",
      "  info['team1_batting_50s_normalized'] = team1_players[team1_players['batting_50s_normalized'] != 0]['batting_50s_normalized'].values.mean()\n",
      "C:\\Users\\HP\\AppData\\Local\\Temp\\ipykernel_8704\\2640871445.py:51: RuntimeWarning: Mean of empty slice.\n",
      "  info['team1_batting_6s_normalized'] = team1_players[team1_players['batting_6s_normalized'] != 0]['batting_6s_normalized'].values.mean()\n",
      "C:\\Users\\HP\\AppData\\Local\\Temp\\ipykernel_8704\\2640871445.py:52: RuntimeWarning: Mean of empty slice.\n",
      "  info['team1_batting_4s_normalized'] = team1_players[team1_players['batting_4s_normalized'] != 0]['batting_4s_normalized'].values.mean()\n",
      "C:\\Users\\HP\\AppData\\Local\\Temp\\ipykernel_8704\\2640871445.py:53: RuntimeWarning: Mean of empty slice.\n",
      "  info['team1_bowling_average'] = team1_players[team1_players['bowling_average'] != 0]['bowling_average'].values.mean()\n",
      "C:\\Users\\HP\\AppData\\Local\\Temp\\ipykernel_8704\\2640871445.py:54: RuntimeWarning: Mean of empty slice.\n",
      "  info['team1_bowling_strike_rate'] = team1_players[team1_players['bowling_strike_rate'] != 0]['bowling_strike_rate'].values.mean()\n",
      "C:\\Users\\HP\\AppData\\Local\\Temp\\ipykernel_8704\\2640871445.py:55: RuntimeWarning: Mean of empty slice.\n",
      "  info['team1_bowling_economy'] = team1_players[team1_players['bowling_economy'] != 0]['bowling_economy'].values.mean()\n",
      "C:\\Users\\HP\\AppData\\Local\\Temp\\ipykernel_8704\\2640871445.py:56: RuntimeWarning: Mean of empty slice.\n",
      "  info['team1_bowling_maidens_normalized'] = team1_players[team1_players['bowling_maidens_normalized'] != 0]['bowling_maidens_normalized'].values.mean()\n",
      "C:\\Users\\HP\\AppData\\Local\\Temp\\ipykernel_8704\\2640871445.py:58: RuntimeWarning: Mean of empty slice.\n",
      "  info['team2_batting_average'] = team2_players[team2_players['batting_average'] != 0]['batting_average'].values.mean()\n",
      "C:\\Users\\HP\\AppData\\Local\\Temp\\ipykernel_8704\\2640871445.py:59: RuntimeWarning: Mean of empty slice.\n",
      "  info['team2_batting_strike_rate'] = team2_players[team2_players['batting_strike_rate'] != 0]['batting_strike_rate'].values.mean()\n",
      "C:\\Users\\HP\\AppData\\Local\\Temp\\ipykernel_8704\\2640871445.py:61: RuntimeWarning: Mean of empty slice.\n",
      "  info['team2_batting_50s_normalized'] = team2_players[team2_players['batting_50s_normalized'] != 0]['batting_50s_normalized'].values.mean()\n",
      "C:\\Users\\HP\\AppData\\Local\\Temp\\ipykernel_8704\\2640871445.py:62: RuntimeWarning: Mean of empty slice.\n",
      "  info['team2_batting_6s_normalized'] = team2_players[team2_players['batting_6s_normalized'] != 0]['batting_6s_normalized'].values.mean()\n",
      "C:\\Users\\HP\\AppData\\Local\\Temp\\ipykernel_8704\\2640871445.py:63: RuntimeWarning: Mean of empty slice.\n",
      "  info['team2_batting_4s_normalized'] = team2_players[team2_players['batting_4s_normalized'] != 0]['batting_4s_normalized'].values.mean()\n",
      "C:\\Users\\HP\\AppData\\Local\\Temp\\ipykernel_8704\\2640871445.py:64: RuntimeWarning: Mean of empty slice.\n",
      "  info['team2_bowling_average'] = team2_players[team2_players['bowling_average'] != 0]['bowling_average'].values.mean()\n",
      "C:\\Users\\HP\\AppData\\Local\\Temp\\ipykernel_8704\\2640871445.py:65: RuntimeWarning: Mean of empty slice.\n",
      "  info['team2_bowling_strike_rate'] = team2_players[team2_players['bowling_strike_rate'] != 0]['bowling_strike_rate'].values.mean()\n",
      "C:\\Users\\HP\\AppData\\Local\\Temp\\ipykernel_8704\\2640871445.py:66: RuntimeWarning: Mean of empty slice.\n",
      "  info['team2_bowling_economy'] = team2_players[team2_players['bowling_economy'] != 0]['bowling_economy'].values.mean()\n",
      "C:\\Users\\HP\\AppData\\Local\\Temp\\ipykernel_8704\\2640871445.py:67: RuntimeWarning: Mean of empty slice.\n",
      "  info['team2_bowling_maidens_normalized'] = team2_players[team2_players['bowling_maidens_normalized'] != 0]['bowling_maidens_normalized'].values.mean()\n",
      "100%|██████████| 2364/2364 [00:54<00:00, 43.42it/s]\n"
     ]
    }
   ],
   "source": [
    "# iterate over all files and extract match info\n",
    "matches_info = []\n",
    "for match_file in tqdm(match_files):\n",
    "    match_data = extract_match_data(match_file, career_averages, player_info = True)\n",
    "    if match_data is not None:\n",
    "        matches_info.extend(match_data)        \n",
    "\n",
    "# convert to dataframe\n",
    "df = pd.DataFrame.from_records(matches_info)\n",
    "df.to_csv('resources/matches_info.csv', index=False)"
   ]
  },
  {
   "cell_type": "code",
   "execution_count": null,
   "metadata": {},
   "outputs": [],
   "source": []
  }
 ],
 "metadata": {
  "kernelspec": {
   "display_name": "Python 3.10.5 64-bit",
   "language": "python",
   "name": "python3"
  },
  "language_info": {
   "codemirror_mode": {
    "name": "ipython",
    "version": 3
   },
   "file_extension": ".py",
   "mimetype": "text/x-python",
   "name": "python",
   "nbconvert_exporter": "python",
   "pygments_lexer": "ipython3",
   "version": "3.10.5"
  },
  "orig_nbformat": 4,
  "vscode": {
   "interpreter": {
    "hash": "26de051ba29f2982a8de78e945f0abaf191376122a1563185a90213a26c5da77"
   }
  }
 },
 "nbformat": 4,
 "nbformat_minor": 2
}
